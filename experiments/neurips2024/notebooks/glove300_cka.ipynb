{
 "cells": [
  {
   "cell_type": "markdown",
   "metadata": {},
   "source": [
    "# Experiments with GloVE embeddings"
   ]
  },
  {
   "cell_type": "markdown",
   "metadata": {},
   "source": [
    "To get data:\n",
    "\n",
    "1. Run `python scripts/download_glove.py`\n",
    "2. Wait for it...\n",
    "3. Proceed."
   ]
  },
  {
   "cell_type": "code",
   "execution_count": 1,
   "metadata": {},
   "outputs": [],
   "source": [
    "import graph_structure as gs\n",
    "import numpy as np\n",
    "from tqdm import tqdm\n",
    "from joblib import Parallel,delayed\n",
    "import matplotlib.pyplot as plt\n",
    "import scipy.stats as st\n",
    "from sklearn.metrics import pairwise_distances\n",
    "import pandas as pd\n",
    "import re"
   ]
  },
  {
   "cell_type": "code",
   "execution_count": 2,
   "metadata": {},
   "outputs": [],
   "source": [
    "def cka(X1, X2):\n",
    "    # Center the data\n",
    "    X1 = X1 - X1.mean(axis=0)\n",
    "    X2 = X2 - X2.mean(axis=0)\n",
    "\n",
    "    # Compute the kernel matrices\n",
    "    K1 = X1.T @ X1\n",
    "    K2 = X2.T @ X2\n",
    "\n",
    "    # Compute the squared Frobenius norms\n",
    "    norm1 = np.linalg.norm(K1, 'fro')\n",
    "    norm2 = np.linalg.norm(K2, 'fro')\n",
    "\n",
    "    # Compute the CKA\n",
    "    cka = np.linalg.norm(X2.T @ X1, 'fro')**2 / (norm1 * norm2)\n",
    "    return cka\n",
    "\n"
   ]
  },
  {
   "cell_type": "markdown",
   "metadata": {},
   "source": [
    "## Reading data files"
   ]
  },
  {
   "cell_type": "code",
   "execution_count": 3,
   "metadata": {},
   "outputs": [
    {
     "name": "stdout",
     "output_type": "stream",
     "text": [
      "603955\n"
     ]
    }
   ],
   "source": [
    "with open('../data/questions-words.txt', 'r') as f:\n",
    "    data = f.read()\n",
    "print(len(data))"
   ]
  },
  {
   "cell_type": "code",
   "execution_count": 4,
   "metadata": {},
   "outputs": [],
   "source": [
    "# Reading analogies\n",
    "titles = re.findall(':.*\\n', data)\n",
    "contents = re.split(':.*\\n', data)\n",
    "\n",
    "metaphors = {}\n",
    "for idx, s in enumerate(titles):\n",
    "    title = s.replace('\\n', '').replace(': ', '').rstrip().lstrip()\n",
    "    lines = contents[idx+1].split('\\n')\n",
    "    g1 = []\n",
    "    g2 = []\n",
    "    for line in lines:\n",
    "        if len(line) < 5:\n",
    "            continue\n",
    "        #print(line)\n",
    "        a, b, c, d = line.split(' ')\n",
    "        if (a not in g1) and (b not in g2):\n",
    "            g1.append(a)\n",
    "            g2.append(b)\n",
    "        if (c not in g1) and (d not in g2):\n",
    "            g1.append(c)\n",
    "            g2.append(d)\n",
    "    metaphors[title] = [g1, g2]"
   ]
  },
  {
   "cell_type": "code",
   "execution_count": 5,
   "metadata": {},
   "outputs": [],
   "source": [
    "# Load GloVe embeddings\n",
    "fname = 'glove.6B.300d.txt'\n",
    "def load_glove(fname):\n",
    "    embed_dict = {}\n",
    "    with open('../data/' + fname,'r') as f:\n",
    "        for line in f:\n",
    "            values = line.split()\n",
    "            word = values[0]\n",
    "            vector = np.asarray(values[1:],'float32')\n",
    "            embed_dict[word]=vector\n",
    "    return embed_dict"
   ]
  },
  {
   "cell_type": "code",
   "execution_count": 6,
   "metadata": {},
   "outputs": [],
   "source": [
    "def embedding_space(word_list, embed_dict):\n",
    "    x = [embed_dict[w.lower()] for w in word_list]\n",
    "    x = np.array(x)\n",
    "    return x"
   ]
  },
  {
   "cell_type": "code",
   "execution_count": 7,
   "metadata": {},
   "outputs": [],
   "source": [
    "def topology_experiment(metaphors, embed_dict):\n",
    "    results = {}\n",
    "    for category in metaphors.keys():\n",
    "        g1 = metaphors[category][0]\n",
    "        g2 = metaphors[category][1]\n",
    "        e1 = embedding_space(g1, embed_dict)\n",
    "        e2 = embedding_space(g2, embed_dict)\n",
    "        a = cka(e1, e2)\n",
    "        results[category] = (a, len(g1))\n",
    "    return results"
   ]
  },
  {
   "cell_type": "code",
   "execution_count": null,
   "metadata": {},
   "outputs": [],
   "source": []
  },
  {
   "cell_type": "markdown",
   "metadata": {},
   "source": [
    "## Topology vs. K\n"
   ]
  },
  {
   "cell_type": "code",
   "execution_count": 8,
   "metadata": {},
   "outputs": [
    {
     "name": "stdout",
     "output_type": "stream",
     "text": [
      "Loaded\n"
     ]
    }
   ],
   "source": [
    "embed_dict = load_glove(fname)\n",
    "print(\"Loaded\")\n"
   ]
  },
  {
   "cell_type": "code",
   "execution_count": 9,
   "metadata": {},
   "outputs": [
    {
     "name": "stderr",
     "output_type": "stream",
     "text": [
      "100%|██████████| 14/14 [00:00<00:00, 16.64it/s]\n"
     ]
    }
   ],
   "source": [
    "sg = {}\n",
    "\n",
    "for category in tqdm(metaphors.keys()):\n",
    "    sg[category] = []\n",
    "    g1 = np.array(metaphors[category][0])\n",
    "    g2 = np.array(metaphors[category][1])\n",
    "    \n",
    "\n",
    "    #print(choices, n_bootstrap,e1.shape, len(g1))\n",
    "    e1 = embedding_space(g1, embed_dict)\n",
    "    e2 = embedding_space(g2, embed_dict)\n",
    "    \n",
    "    ks = list(range(1, len(e1)))        \n",
    "    for idx, k in enumerate(ks):\n",
    "        s = cka(e1, e2)\n",
    "        sg[category].append(s)\n",
    "    \n",
    "    sg[category] = np.array(sg[category])\n",
    "    "
   ]
  },
  {
   "cell_type": "code",
   "execution_count": 10,
   "metadata": {},
   "outputs": [],
   "source": [
    "\n",
    "def analogy_experiment(metaphors, embed_dict):\n",
    "    results = {}\n",
    "    for category in metaphors.keys():\n",
    "        g1 = metaphors[category][0]\n",
    "        g2 = metaphors[category][1]\n",
    "        e1 = embedding_space(g1, embed_dict)\n",
    "        e2 = embedding_space(g2, embed_dict)\n",
    "\n",
    "        acc = 0\n",
    "        tries = 0        \n",
    "        for i in range(len(g1)):\n",
    "            for j in range(i+1, len(g1)):\n",
    "                tries += 1\n",
    "                w = e1[i,:] - e2[i,:] + e1[j,:]\n",
    "                w = w.reshape( (1,-1))\n",
    "                p = pairwise_distances(w, e2, metric='cosine')\n",
    "                if np.argmin(p)==j:\n",
    "                    acc += 1\n",
    "        \n",
    "        results[category] = (acc/tries, len(g1))\n",
    "    return results"
   ]
  },
  {
   "cell_type": "code",
   "execution_count": 11,
   "metadata": {},
   "outputs": [],
   "source": [
    "res = topology_experiment(metaphors, embed_dict)\n",
    "res2 = analogy_experiment(metaphors, embed_dict)"
   ]
  },
  {
   "cell_type": "code",
   "execution_count": null,
   "metadata": {},
   "outputs": [],
   "source": []
  },
  {
   "cell_type": "code",
   "execution_count": 12,
   "metadata": {},
   "outputs": [
    {
     "data": {
      "text/plain": [
       "PearsonRResult(statistic=0.8662051303268172, pvalue=6.169374290361515e-05)"
      ]
     },
     "execution_count": 12,
     "metadata": {},
     "output_type": "execute_result"
    }
   ],
   "source": [
    "results = np.array([ [res[k][0], res2[k][0]] for k in res.keys()])\n",
    "labels = list(res.keys())\n",
    "st.pearsonr(results[:,0],results[:,1])"
   ]
  },
  {
   "cell_type": "code",
   "execution_count": 16,
   "metadata": {},
   "outputs": [
    {
     "data": {
      "image/png": "[encoded data removed]",
      "text/plain": [
       "<Figure size 640x480 with 1 Axes>"
      ]
     },
     "metadata": {},
     "output_type": "display_data"
    }
   ],
   "source": [
    "plt.figure()\n",
    "for j in range(4):\n",
    "    if j == 1 or j ==2 or j==1:\n",
    "        continue\n",
    "    plt.scatter(results[:,0], results[:,1], c='b', s=40, alpha=0.2)\n",
    "\n",
    "plt.xlabel('CKA$(A,B)$')\n",
    "plt.ylabel('Analogy accuracy')\n",
    "plt.ylim([0,1])\n",
    "#plt.legend( bbox_to_anchor=(1.05, 1), loc='upper left')\n",
    "for idx, text in enumerate(labels):\n",
    "    plt.text(results[idx,0], results[idx,1], s=text, fontsize=7, ha='center', va='center', rotation=-30)\n",
    "#plt.title('GLoVe embeddings and Structural distance')\n",
    "plt.savefig('glove_accuracy_similarity_cka.pdf', bbox_inches='tight')\n",
    "plt.show()"
   ]
  },
  {
   "cell_type": "code",
   "execution_count": null,
   "metadata": {},
   "outputs": [],
   "source": []
  }
 ],
 "metadata": {
  "kernelspec": {
   "display_name": "graph",
   "language": "python",
   "name": "python3"
  },
  "language_info": {
   "codemirror_mode": {
    "name": "ipython",
    "version": 3
   },
   "file_extension": ".py",
   "mimetype": "text/x-python",
   "name": "python",
   "nbconvert_exporter": "python",
   "pygments_lexer": "ipython3",
   "version": "3.11.7"
  }
 },
 "nbformat": 4,
 "nbformat_minor": 2
}
