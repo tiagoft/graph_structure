{
 "cells": [
  {
   "cell_type": "code",
   "execution_count": 17,
   "metadata": {},
   "outputs": [],
   "source": [
    "from PIL import Image\n",
    "import requests\n",
    "from transformers import Blip2Processor, Blip2TextModelWithProjection, AutoProcessor, Blip2VisionModelWithProjection\n",
    "import torch\n",
    "device = \"cuda\" if torch.cuda.is_available() else \"cpu\""
   ]
  },
  {
   "cell_type": "code",
   "execution_count": 20,
   "metadata": {},
   "outputs": [
    {
     "name": "stdout",
     "output_type": "stream",
     "text": [
      "torch.Size([3, 256])\n"
     ]
    }
   ],
   "source": [
    "model = Blip2TextModelWithProjection.from_pretrained(\n",
    "    \"Salesforce/blip2-itm-vit-g\", device_map=\"auto\", torch_dtype=torch.float16\n",
    ")\n",
    "model.to(device)\n",
    "processor = AutoProcessor.from_pretrained(\"Salesforce/blip2-itm-vit-g\")\n",
    "inputs = processor(text=[\"a photo of a cat\", \"a photo of a dog\", \"not a photo of a dog\"], return_tensors=\"pt\", padding=True).to(device)\n",
    "\n",
    "outputs = model(**inputs)\n",
    "text_embeds = outputs.text_embeds[:,0,:]\n",
    "print(text_embeds.shape)"
   ]
  },
  {
   "cell_type": "code",
   "execution_count": 12,
   "metadata": {},
   "outputs": [
    {
     "name": "stdout",
     "output_type": "stream",
     "text": [
      "torch.Size([1, 32, 256])\n"
     ]
    }
   ],
   "source": [
    "\n",
    "\n",
    "model = Blip2VisionModelWithProjection.from_pretrained(\n",
    "    \"Salesforce/blip2-itm-vit-g\", device_map=\"auto\"\n",
    ")\n",
    "model.to(device)\n",
    "processor = AutoProcessor.from_pretrained(\"Salesforce/blip2-itm-vit-g\")\n",
    "url = \"http://images.cocodataset.org/val2017/000000039769.jpg\"\n",
    "image = Image.open(requests.get(url, stream=True).raw)\n",
    "inputs = processor(images=image, return_tensors=\"pt\").to(device, torch.float16)\n",
    "outputs = model(**inputs)\n",
    "image_embeds = outputs.image_embeds\n",
    "print(image_embeds.shape)\n"
   ]
  },
  {
   "cell_type": "code",
   "execution_count": 15,
   "metadata": {},
   "outputs": [
    {
     "data": {
      "text/plain": [
       "torch.Size([1, 257, 1408])"
      ]
     },
     "execution_count": 15,
     "metadata": {},
     "output_type": "execute_result"
    }
   ],
   "source": [
    "outputs.last_hidden_state.shape"
   ]
  }
 ],
 "metadata": {
  "kernelspec": {
   "display_name": "graph",
   "language": "python",
   "name": "python3"
  },
  "language_info": {
   "codemirror_mode": {
    "name": "ipython",
    "version": 3
   },
   "file_extension": ".py",
   "mimetype": "text/x-python",
   "name": "python",
   "nbconvert_exporter": "python",
   "pygments_lexer": "ipython3",
   "version": "3.11.9"
  }
 },
 "nbformat": 4,
 "nbformat_minor": 2
}
