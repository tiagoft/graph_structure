{
 "cells": [
  {
   "cell_type": "markdown",
   "metadata": {},
   "source": [
    "# Comparing different similarity measures"
   ]
  },
  {
   "cell_type": "markdown",
   "metadata": {},
   "source": [
    "Nearest Neighbor Graph Similarity is our proposal (NNGS). It is based on the structural distance between nearest-neighbor graphs in different representations. Centered Kernel Alignment (CKA) is a previous proposal, based on tracking the modification of distances across representations."
   ]
  },
  {
   "cell_type": "code",
   "execution_count": 1,
   "metadata": {},
   "outputs": [],
   "source": [
    "import graph_structure as gs\n",
    "import numpy as np\n",
    "from tqdm import tqdm\n",
    "from joblib import Parallel,delayed\n",
    "import matplotlib.pyplot as plt\n",
    "import scipy.stats as st\n",
    "import pandas as pd"
   ]
  },
  {
   "cell_type": "code",
   "execution_count": 2,
   "metadata": {},
   "outputs": [],
   "source": [
    "n_dim=20\n",
    "def create_aligned_dataset(\n",
    "    n_dim: int,\n",
    "    n_items: list,\n",
    "    mu1: list,\n",
    "    sigma1: list,\n",
    "    mu2: list,\n",
    "    sigma2: list,\n",
    "    noise: list,\n",
    "):\n",
    "    X1 = []\n",
    "    X2 = []\n",
    "    for i in range(len(n_items)):\n",
    "        x_ = np.random.normal(0, 1, (n_items[i], n_dim))\n",
    "        x1_ = x_ * sigma1[i] + mu1[i]\n",
    "        x2_ = x_ * sigma2[i] + mu2[i]\n",
    "        phi = np.random.randn(n_items[i], n_dim) * noise[i]\n",
    "        x2_ += phi\n",
    "        X1.append(x1_)\n",
    "        X2.append(x2_)\n",
    "    X1 = np.vstack(X1)\n",
    "    X2 = np.vstack(X2)\n",
    "    return X1, X2\n",
    "\n",
    "all_results = []"
   ]
  },
  {
   "cell_type": "code",
   "execution_count": 3,
   "metadata": {},
   "outputs": [],
   "source": [
    "cases = [\n",
    "    {'experiment': 'Blobs with Different Scales',\n",
    "     'n_dim' : n_dim,\n",
    "     'n_items' : [200, 200],\n",
    "     'mu1': [-1, 3],\n",
    "     'sigma1' : [3, .1],\n",
    "     'mu2' :  [-1, 3],\n",
    "     'sigma2' : [.1, 3],\n",
    "     'noise' : [0, 0]\n",
    "    },\n",
    "    {'experiment': 'Unbalanced Blobs with Different Scales',\n",
    "     'n_dim' : n_dim,\n",
    "     'n_items' : [10, 1000],\n",
    "     'mu1': [-1, 3],\n",
    "     'sigma1' : [3, .1],\n",
    "     'mu2' :  [-1, 3],\n",
    "     'sigma2' : [.1, 3],\n",
    "     'noise' : [0, 0]\n",
    "    },\n",
    "    {'experiment': 'Noise Within Blobs',\n",
    "     'n_dim' : n_dim,\n",
    "     'n_items' : [100, 100, 100, 100],\n",
    "     'mu1': [0, 1, 2, 3],\n",
    "     'sigma1' : [0.1, 0.1, 0.1, 0.1],\n",
    "     'mu2' :  [0, 1, 2, 3],\n",
    "     'sigma2' : [0.1, 0.1, 0.1, 0.1],\n",
    "     'noise' : [0.5, 0.5, 0.5, 0.5]\n",
    "    },\n",
    "    {'experiment': 'Shuffled Blobs',\n",
    "     'n_dim' : n_dim,\n",
    "     'n_items' : [100, 100, 100, 100],\n",
    "     'mu1': [0, 1, 2, 3],\n",
    "     'sigma1' : [0.1, 0.1, 0.1, 0.1],\n",
    "     'mu2' :  [2, 1, 3, 0],\n",
    "     'sigma2' : [0.1, 0.1, 0.1, 0.1],\n",
    "     'noise' : [0, 0, 0, 0]\n",
    "    }\n",
    "]"
   ]
  },
  {
   "cell_type": "code",
   "execution_count": 4,
   "metadata": {},
   "outputs": [
    {
     "name": "stdout",
     "output_type": "stream",
     "text": [
      "\\begin{tabular}{lllll}\n",
      "\\toprule\n",
      " & 0 & 1 & 2 & 3 \\\\\n",
      "\\midrule\n",
      "experiment & Blobs with Different Scales & Unbalanced Blobs with Different Scales & Noise Within Blobs & Shuffled Blobs \\\\\n",
      "n_dim & 20 & 20 & 20 & 20 \\\\\n",
      "n_items & 200, 200 & 10, 1000 & 100, 100, 100, 100 & 100, 100, 100, 100 \\\\\n",
      "mu1 & -1, 3 & -1, 3 & 0, 1, 2, 3 & 0, 1, 2, 3 \\\\\n",
      "sigma1 & 3, 0.1 & 3, 0.1 & 0.1, 0.1, 0.1, 0.1 & 0.1, 0.1, 0.1, 0.1 \\\\\n",
      "mu2 & -1, 3 & -1, 3 & 0, 1, 2, 3 & 2, 1, 3, 0 \\\\\n",
      "sigma2 & 0.1, 3 & 0.1, 3 & 0.1, 0.1, 0.1, 0.1 & 0.1, 0.1, 0.1, 0.1 \\\\\n",
      "noise & 0, 0 & 0, 0 & 0.5, 0.5, 0.5, 0.5 & 0, 0, 0, 0 \\\\\n",
      "\\bottomrule\n",
      "\\end{tabular}\n",
      "\n"
     ]
    }
   ],
   "source": [
    "cases_df = pd.DataFrame(cases).T.to_latex(float_format=\"%.2f\").replace('[','').replace(']','')\n",
    "print(cases_df)"
   ]
  },
  {
   "cell_type": "code",
   "execution_count": 5,
   "metadata": {},
   "outputs": [],
   "source": [
    "# X, Y = create_aligned_dataset(\n",
    "#     n_dim=2,\n",
    "#     n_items=[10, 10],\n",
    "#     mu1=[-1, 1],\n",
    "#     sigma1=[0.2, 0.2],\n",
    "#     mu2=[-1, 1],\n",
    "#     sigma2=[0.2, 0.2],\n",
    "#     noise=[0.5, 0]\n",
    "# )\n",
    "# plt.scatter(X[:, 0], X[:, 1], label='X', alpha=0.5)\n",
    "# plt.scatter(Y[:, 0], Y[:, 1], label='Y', alpha=0.5)\n",
    "# plt.legend()\n",
    "# plt.xlabel('Dimension 1')\n",
    "# plt.ylabel('Dimension 2')\n",
    "# plt.title('Scatter plot of X and Y')\n",
    "# plt.show()"
   ]
  },
  {
   "cell_type": "code",
   "execution_count": 6,
   "metadata": {},
   "outputs": [],
   "source": [
    "def make_experiment(settings: dict):\n",
    "    X, Y = create_aligned_dataset(\n",
    "        n_dim=settings['n_dim'],\n",
    "        n_items=settings['n_items'],\n",
    "        mu1=settings['mu1'],\n",
    "        sigma1=settings['sigma1'],\n",
    "        mu2=settings['mu2'],\n",
    "        sigma2=settings['sigma2'],\n",
    "        noise=settings['noise']\n",
    "    )\n",
    "    cka_similarity = gs.cka(X, Y)\n",
    "    cka_rbf_close_similarity = gs.cka(X,\n",
    "                                      Y,\n",
    "                                      kernel_X=gs.get_rbf_kernel(sigma=0.01),\n",
    "                                      kernel_Y=gs.get_rbf_kernel(sigma=0.01))\n",
    "    cka_rbf_dist_similarity = gs.cka(X,\n",
    "                                     Y,\n",
    "                                     kernel_X=gs.get_rbf_kernel(sigma=3),\n",
    "                                     kernel_Y=gs.get_rbf_kernel(sigma=3))\n",
    "    gs_similarity_mink = gs.mean_neighborhood_similarity_from_points(\n",
    "        X, Y, k=5, metric='minkowski', n_jobs=-1)\n",
    "    gs_similarity_mink_k300 = gs.mean_neighborhood_similarity_from_points(\n",
    "        X, Y, k=300, metric='minkowski', n_jobs=-1)\n",
    "    gulp_similarity_0p01 = gs.gulp(X, Y, lambda_=0.01)\n",
    "    gulp_similarity_1p00 = gs.gulp(X, Y, lambda_=1.0)\n",
    "\n",
    "    results = {\n",
    "        'experiment' : settings['experiment'],\n",
    "        'cka_similarity': cka_similarity,\n",
    "        'cka_rbf_close_similarity': cka_rbf_close_similarity,\n",
    "        'cka_rbf_dist_similarity': cka_rbf_dist_similarity,\n",
    "        'gs_similarity_mink': gs_similarity_mink,\n",
    "        'gs_similarity_mink_k300': gs_similarity_mink_k300,\n",
    "        'gulp_similarity_0p01': gulp_similarity_0p01,\n",
    "        'gulp_similarity_1p00': gulp_similarity_1p00,\n",
    "    }\n",
    "    return results"
   ]
  },
  {
   "cell_type": "code",
   "execution_count": 7,
   "metadata": {},
   "outputs": [
    {
     "name": "stdout",
     "output_type": "stream",
     "text": [
      "Running experiment: Blobs with Different Scales\n"
     ]
    },
    {
     "name": "stderr",
     "output_type": "stream",
     "text": [
      "100%|██████████| 10/10 [00:00<00:00, 838.01it/s]\n"
     ]
    },
    {
     "name": "stdout",
     "output_type": "stream",
     "text": [
      "Running experiment: Unbalanced Blobs with Different Scales\n"
     ]
    },
    {
     "name": "stderr",
     "output_type": "stream",
     "text": [
      "100%|██████████| 10/10 [00:00<00:00, 8939.27it/s]\n"
     ]
    },
    {
     "name": "stdout",
     "output_type": "stream",
     "text": [
      "Running experiment: Noise Within Blobs\n"
     ]
    },
    {
     "name": "stderr",
     "output_type": "stream",
     "text": [
      "100%|██████████| 10/10 [00:00<00:00, 10177.88it/s]\n"
     ]
    },
    {
     "name": "stdout",
     "output_type": "stream",
     "text": [
      "Running experiment: Shuffled Blobs\n"
     ]
    },
    {
     "name": "stderr",
     "output_type": "stream",
     "text": [
      "100%|██████████| 10/10 [00:00<00:00, 7930.24it/s]\n"
     ]
    }
   ],
   "source": [
    "all_results = []\n",
    "for case in cases:\n",
    "    print(f\"Running experiment: {case['experiment']}\")\n",
    "    results = Parallel(n_jobs=-1)(\n",
    "        delayed(make_experiment)(case) for _ in tqdm(range(10)))\n",
    "    all_results.extend(results)\n",
    "all_results_df = pd.DataFrame(all_results)\n"
   ]
  },
  {
   "cell_type": "code",
   "execution_count": 8,
   "metadata": {},
   "outputs": [
    {
     "data": {
      "text/html": [
       "<div>\n",
       "<style scoped>\n",
       "    .dataframe tbody tr th:only-of-type {\n",
       "        vertical-align: middle;\n",
       "    }\n",
       "\n",
       "    .dataframe tbody tr th {\n",
       "        vertical-align: top;\n",
       "    }\n",
       "\n",
       "    .dataframe thead th {\n",
       "        text-align: right;\n",
       "    }\n",
       "</style>\n",
       "<table border=\"1\" class=\"dataframe\">\n",
       "  <thead>\n",
       "    <tr style=\"text-align: right;\">\n",
       "      <th></th>\n",
       "      <th>cka_similarity</th>\n",
       "      <th>cka_rbf_close_similarity</th>\n",
       "      <th>cka_rbf_dist_similarity</th>\n",
       "      <th>gs_similarity_mink</th>\n",
       "      <th>gs_similarity_mink_k300</th>\n",
       "      <th>gulp_similarity_0p01</th>\n",
       "      <th>gulp_similarity_1p00</th>\n",
       "    </tr>\n",
       "    <tr>\n",
       "      <th>experiment</th>\n",
       "      <th></th>\n",
       "      <th></th>\n",
       "      <th></th>\n",
       "      <th></th>\n",
       "      <th></th>\n",
       "      <th></th>\n",
       "      <th></th>\n",
       "    </tr>\n",
       "  </thead>\n",
       "  <tbody>\n",
       "    <tr>\n",
       "      <th>Blobs with Different Scales</th>\n",
       "      <td>0.850597</td>\n",
       "      <td>1.0</td>\n",
       "      <td>0.980566</td>\n",
       "      <td>0.999149</td>\n",
       "      <td>0.760980</td>\n",
       "      <td>15.432501</td>\n",
       "      <td>0.109253</td>\n",
       "    </tr>\n",
       "    <tr>\n",
       "      <th>Unbalanced Blobs with Different Scales</th>\n",
       "      <td>0.098290</td>\n",
       "      <td>1.0</td>\n",
       "      <td>0.313735</td>\n",
       "      <td>0.999144</td>\n",
       "      <td>0.993017</td>\n",
       "      <td>1.502862</td>\n",
       "      <td>0.024437</td>\n",
       "    </tr>\n",
       "    <tr>\n",
       "      <th>Noise Within Blobs</th>\n",
       "      <td>0.989394</td>\n",
       "      <td>1.0</td>\n",
       "      <td>0.959413</td>\n",
       "      <td>0.032381</td>\n",
       "      <td>0.993365</td>\n",
       "      <td>6.880195</td>\n",
       "      <td>0.021971</td>\n",
       "    </tr>\n",
       "    <tr>\n",
       "      <th>Shuffled Blobs</th>\n",
       "      <td>0.159598</td>\n",
       "      <td>1.0</td>\n",
       "      <td>0.845031</td>\n",
       "      <td>1.000000</td>\n",
       "      <td>0.626158</td>\n",
       "      <td>2.073666</td>\n",
       "      <td>0.489695</td>\n",
       "    </tr>\n",
       "  </tbody>\n",
       "</table>\n",
       "</div>"
      ],
      "text/plain": [
       "                                        cka_similarity  \\\n",
       "experiment                                               \n",
       "Blobs with Different Scales                   0.850597   \n",
       "Unbalanced Blobs with Different Scales        0.098290   \n",
       "Noise Within Blobs                            0.989394   \n",
       "Shuffled Blobs                                0.159598   \n",
       "\n",
       "                                        cka_rbf_close_similarity  \\\n",
       "experiment                                                         \n",
       "Blobs with Different Scales                                  1.0   \n",
       "Unbalanced Blobs with Different Scales                       1.0   \n",
       "Noise Within Blobs                                           1.0   \n",
       "Shuffled Blobs                                               1.0   \n",
       "\n",
       "                                        cka_rbf_dist_similarity  \\\n",
       "experiment                                                        \n",
       "Blobs with Different Scales                            0.980566   \n",
       "Unbalanced Blobs with Different Scales                 0.313735   \n",
       "Noise Within Blobs                                     0.959413   \n",
       "Shuffled Blobs                                         0.845031   \n",
       "\n",
       "                                        gs_similarity_mink  \\\n",
       "experiment                                                   \n",
       "Blobs with Different Scales                       0.999149   \n",
       "Unbalanced Blobs with Different Scales            0.999144   \n",
       "Noise Within Blobs                                0.032381   \n",
       "Shuffled Blobs                                    1.000000   \n",
       "\n",
       "                                        gs_similarity_mink_k300  \\\n",
       "experiment                                                        \n",
       "Blobs with Different Scales                            0.760980   \n",
       "Unbalanced Blobs with Different Scales                 0.993017   \n",
       "Noise Within Blobs                                     0.993365   \n",
       "Shuffled Blobs                                         0.626158   \n",
       "\n",
       "                                        gulp_similarity_0p01  \\\n",
       "experiment                                                     \n",
       "Blobs with Different Scales                        15.432501   \n",
       "Unbalanced Blobs with Different Scales              1.502862   \n",
       "Noise Within Blobs                                  6.880195   \n",
       "Shuffled Blobs                                      2.073666   \n",
       "\n",
       "                                        gulp_similarity_1p00  \n",
       "experiment                                                    \n",
       "Blobs with Different Scales                         0.109253  \n",
       "Unbalanced Blobs with Different Scales              0.024437  \n",
       "Noise Within Blobs                                  0.021971  \n",
       "Shuffled Blobs                                      0.489695  "
      ]
     },
     "metadata": {},
     "output_type": "display_data"
    }
   ],
   "source": [
    "from IPython.display import display\n",
    "\n",
    "grouped_res = all_results_df.groupby('experiment', sort=False).mean()\n",
    "display(grouped_res)"
   ]
  },
  {
   "cell_type": "code",
   "execution_count": 9,
   "metadata": {},
   "outputs": [
    {
     "name": "stdout",
     "output_type": "stream",
     "text": [
      "\\begin{tabular}{lrrrrrrr}\n",
      "\\toprule\n",
      " & cka_similarity & cka_rbf_close_similarity & cka_rbf_dist_similarity & gs_similarity_mink & gs_similarity_mink_k300 & gulp_similarity_0p01 & gulp_similarity_1p00 \\\\\n",
      "experiment &  &  &  &  &  &  &  \\\\\n",
      "\\midrule\n",
      "Blobs with Different Scales & 0.85 & 1.00 & 0.98 & 1.00 & 0.76 & 15.43 & 0.11 \\\\\n",
      "Unbalanced Blobs with Different Scales & 0.10 & 1.00 & 0.31 & 1.00 & 0.99 & 1.50 & 0.02 \\\\\n",
      "Noise Within Blobs & 0.99 & 1.00 & 0.96 & 0.03 & 0.99 & 6.88 & 0.02 \\\\\n",
      "Shuffled Blobs & 0.16 & 1.00 & 0.85 & 1.00 & 0.63 & 2.07 & 0.49 \\\\\n",
      "\\bottomrule\n",
      "\\end{tabular}\n",
      "\n"
     ]
    }
   ],
   "source": [
    "# Print grouped_res as LaTeX and round numbers to 2 floating points\n",
    "latex_output = grouped_res.round(2).to_latex(float_format=\"%.2f\")\n",
    "print(latex_output)"
   ]
  },
  {
   "cell_type": "code",
   "execution_count": null,
   "metadata": {},
   "outputs": [],
   "source": []
  },
  {
   "cell_type": "markdown",
   "metadata": {},
   "source": [
    "# Finding good values for $k$\n",
    "\n",
    "* Knowledge about the dataset\n",
    "* Via analyzing projections and counting points within clusters (maybe semi-automating this process with k-means)"
   ]
  },
  {
   "cell_type": "code",
   "execution_count": 10,
   "metadata": {},
   "outputs": [
    {
     "data": {
      "image/png": "[encoded data removed]",
      "text/plain": [
       "<Figure size 640x480 with 1 Axes>"
      ]
     },
     "metadata": {},
     "output_type": "display_data"
    }
   ],
   "source": [
    "from sklearn.manifold import TSNE\n",
    "\n",
    "X, Y = create_aligned_dataset(\n",
    "    n_dim=20,\n",
    "    n_items=[100, 100, 30, 50, 10],\n",
    "    mu1=np.random.permutation([0, 1, 2, 3, 4]),\n",
    "    sigma1=[0.2, 0.4, 0.6, 0.8, 1],\n",
    "    mu2=[0, 1, 2, 3, 4],\n",
    "    sigma2=[0.2, 0.4, 0.6, 0.8, 1],\n",
    "    noise=[0.02, 0.04, 0.06, 0.08, .1]\n",
    ")\n",
    "\n",
    "tsne = TSNE(2)\n",
    "X_tsne = tsne.fit_transform(X)\n",
    "Y_tsne = tsne.fit_transform(Y)\n",
    "plt.scatter(X_tsne[:, 0], X_tsne[:, 1], label='X', alpha=0.5)\n",
    "plt.scatter(Y_tsne[:, 0], Y_tsne[:, 1], label='Y', alpha=0.5)\n",
    "plt.legend()\n",
    "plt.xlabel('Dimension 1')\n",
    "plt.ylabel('Dimension 2')\n",
    "plt.title('Scatter plot of X and Y')\n",
    "plt.show()"
   ]
  },
  {
   "cell_type": "markdown",
   "metadata": {},
   "source": [
    "Insights on K:\n",
    "\n",
    "* NNGS allows changing $k$ to analyze transformations at different scales\n",
    "* It is a bit hard to do that with $\\sigma$ in CKA-RBF because the \"good\" value depends on the intra- and inter-cluster distances, which can change with linear transformations.\n",
    "* With NNGS we can find a good value for $k$ by inspecting the dataset with e.g. TSNE, and choosing what scale we are trying to analyze\n",
    "\n",
    "However:\n",
    "* NNGS depends on a \"good\" value for $k$. The same value for $k$ means different things in different datasets.\n",
    "* Linear CKA does not depend on any parameter (although - \"Linear Kernel\" is an implicit parameter by itself)\n",
    "\n",
    "Usefulness:\n",
    "* NNGS can be used to detect similarities in multimodal embeddings\n",
    "* NNGS with a correct $k$ can be more correlated to the zero-shot accuracy than CKA\n",
    "\n",
    "Theoretical advantages over CKA:\n",
    "* Resilient to unbalanced blobs\n",
    "* Can be tuned to the \"scale\" at which we want to analyze the data"
   ]
  },
  {
   "cell_type": "markdown",
   "metadata": {},
   "source": [
    "### Writing proposal\n",
    "\n",
    "Main point: NNGS has additional properties which can be useful to measure similarity in paired spaces; more effective than CKA in some situations\n",
    "\n",
    "\n",
    "* Experiments demonstrating base properties (like invariance to dimensionality increase)\n",
    "* Experiments comparing with CKA in toy dataset\n",
    "* Comparison with CKA in the CLIP dataset (do we need the GloVe experiment?)"
   ]
  },
  {
   "cell_type": "markdown",
   "metadata": {},
   "source": []
  }
 ],
 "metadata": {
  "kernelspec": {
   "display_name": "graph",
   "language": "python",
   "name": "python3"
  },
  "language_info": {
   "codemirror_mode": {
    "name": "ipython",
    "version": 3
   },
   "file_extension": ".py",
   "mimetype": "text/x-python",
   "name": "python",
   "nbconvert_exporter": "python",
   "pygments_lexer": "ipython3",
   "version": "3.11.9"
  }
 },
 "nbformat": 4,
 "nbformat_minor": 2
}
