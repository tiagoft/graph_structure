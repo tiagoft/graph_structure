{
 "cells": [
  {
   "cell_type": "markdown",
   "metadata": {},
   "source": [
    "# Studies on the Hinton paper"
   ]
  },
  {
   "cell_type": "code",
   "execution_count": 2,
   "metadata": {},
   "outputs": [],
   "source": [
    "import numpy as np\n",
    "\n",
    "def create_blob_dataset(n_per_cluster, n_clusters, p):\n",
    "    c1 = np.zeros((n_per_cluster*n_clusters, p))\n",
    "    for i in range(n_clusters):\n",
    "        start = i * n_per_cluster\n",
    "        end = (i + 1) * n_per_cluster\n",
    "        c1[start:end, :] = 3*np.random.randn(1, p)\n",
    "    return np.random.randn(n_per_cluster*n_clusters, p) + c1\n",
    "\n",
    "X1 = create_blob_dataset(100, 5, 30)\n",
    "X2 = create_blob_dataset(100, 5, 70)\n",
    "X3 = np.random.randn(500,50)\n",
    "X4 = create_blob_dataset(250, 2, 30)\n",
    "\n",
    "test_cases = [X1, X2, X3, X4]"
   ]
  },
  {
   "cell_type": "code",
   "execution_count": 3,
   "metadata": {},
   "outputs": [],
   "source": [
    "from sklearn.decomposition import PCA\n",
    "\n",
    "import matplotlib.pyplot as plt\n",
    "fig, (ax1, ax2) = plt.subplots(1, 2, figsize=(12, 6))\n",
    "\n",
    "# Plot PCA projection of X1\n",
    "pca = PCA(n_components=2)\n",
    "X1_pca = pca.fit_transform(X1)\n",
    "ax1.scatter(X1_pca[:, 0], X1_pca[:, 1])\n",
    "ax1.set_title('PCA Projection of X1')\n",
    "\n",
    "# Plot PCA projection of X2\n",
    "pca = PCA(n_components=2)\n",
    "X2_pca = pca.fit_transform(X2)\n",
    "ax2.scatter(X2_pca[:, 0], X2_pca[:, 1])\n",
    "ax2.set_title('PCA Projection of X2')\n",
    "\n",
    "plt.show()"
   ]
  },
  {
   "cell_type": "code",
   "execution_count": 4,
   "metadata": {},
   "outputs": [],
   "source": [
    "from sklearn.linear_model import LinearRegression\n",
    "from sklearn.metrics import mean_squared_error\n",
    "\n",
    "def error_linear_regression(X1, X2):\n",
    "    # Create the linear regression model\n",
    "    regression_model = LinearRegression()\n",
    "\n",
    "    # Fit the model using X1 as the independent variable and X2 as the dependent variable\n",
    "    regression_model.fit(X1, X2)\n",
    "\n",
    "    # Predict X2 values using the linear regression model\n",
    "    X2_predicted = regression_model.predict(X1)\n",
    "\n",
    "    # Calculate the mean squared error\n",
    "    mse = mean_squared_error(X2, X2_predicted)\n",
    "    return mse\n",
    "\n"
   ]
  },
  {
   "cell_type": "code",
   "execution_count": null,
   "metadata": {},
   "outputs": [],
   "source": []
  },
  {
   "cell_type": "code",
   "execution_count": 5,
   "metadata": {},
   "outputs": [],
   "source": [
    "def cka(X1, X2):\n",
    "    # Center the data\n",
    "    X1 = X1 - X1.mean(axis=0)\n",
    "    X2 = X2 - X2.mean(axis=0)\n",
    "\n",
    "    # Compute the kernel matrices\n",
    "    K1 = X1.T @ X1\n",
    "    K2 = X2.T @ X2\n",
    "\n",
    "    # Compute the squared Frobenius norms\n",
    "    norm1 = np.linalg.norm(K1, 'fro')\n",
    "    norm2 = np.linalg.norm(K2, 'fro')\n",
    "\n",
    "    # Compute the CKA\n",
    "    cka = np.linalg.norm(X2.T @ X1, 'fro')**2 / (norm1 * norm2)\n",
    "    return cka\n",
    "\n"
   ]
  },
  {
   "cell_type": "code",
   "execution_count": null,
   "metadata": {},
   "outputs": [],
   "source": [
    "\n",
    "\n"
   ]
  },
  {
   "cell_type": "code",
   "execution_count": 6,
   "metadata": {},
   "outputs": [],
   "source": [
    "import graph_structure as gs \n",
    "import itertools\n",
    "from tqdm import tqdm\n",
    "\n",
    "n_cases = list(range(len(test_cases)))\n",
    "for case in itertools.product(n_cases, n_cases):\n",
    "    print(\"----Case: \", case)\n",
    "    # Perform operations on each case\n",
    "    mse = error_linear_regression(test_cases[case[0]], test_cases[case[1]])\n",
    "    print(f\"Mean Squared Error for {case[0]}, {case[1]}: {mse}\")\n",
    "    cka_similarity = cka(test_cases[case[0]], test_cases[case[1]])\n",
    "    print(f\"CKA Similarity for {case[0]}, {case[1]}: {cka_similarity}\")\n",
    "    gs_similarity = gs.mean_neighborhood_similarity_from_points(test_cases[case[0]], test_cases[case[1]], k=100)\n",
    "    print(f\"Graph Similarity for {case[0]}, {case[1]}: {gs_similarity}\")"
   ]
  },
  {
   "cell_type": "markdown",
   "metadata": {},
   "source": [
    "# A toy problem"
   ]
  },
  {
   "cell_type": "markdown",
   "metadata": {},
   "source": []
  },
  {
   "cell_type": "code",
   "execution_count": 24,
   "metadata": {},
   "outputs": [
    {
     "data": {
      "text/plain": [
       "<matplotlib.collections.PathCollection at 0x7f8643cc0d90>"
      ]
     },
     "execution_count": 24,
     "metadata": {},
     "output_type": "execute_result"
    },
    {
     "data": {
      "image/png": "[encoded data removed]",
      "text/plain": [
       "<Figure size 640x480 with 1 Axes>"
      ]
     },
     "metadata": {},
     "output_type": "display_data"
    }
   ],
   "source": [
    "import numpy as np\n",
    "\n",
    "# Create a unidimensional dataset with 50 evenly spaced points\n",
    "dataset = np.linspace(0, 10, 100)\n",
    "dataset2 = dataset + np.random.normal(0, 1.7, 100)\n",
    "dataset2 = np.sort(dataset2)\n",
    "dataset = dataset.reshape((-1, 1))\n",
    "dataset2 = dataset2.reshape((-1, 1))\n",
    "# Plot the dataset\n",
    "plt.scatter(dataset, dataset2)"
   ]
  },
  {
   "cell_type": "code",
   "execution_count": 27,
   "metadata": {},
   "outputs": [
    {
     "name": "stdout",
     "output_type": "stream",
     "text": [
      "Mean Squared Error: 0.21893768002045955\n",
      "CKA Similarity: 0.9770919635919625\n",
      "Graph Similarity: 0.9608888888888888\n"
     ]
    }
   ],
   "source": [
    "mse = error_linear_regression(dataset, dataset2)\n",
    "print(f\"Mean Squared Error: {mse}\")\n",
    "cka_similarity = cka(dataset, dataset2)\n",
    "print(f\"CKA Similarity: {cka_similarity}\")\n",
    "gs_similarity = gs.mean_neighborhood_similarity_from_points(dataset, dataset2, k=20)\n",
    "print(f\"Graph Similarity: {gs_similarity}\")\n"
   ]
  },
  {
   "cell_type": "code",
   "execution_count": null,
   "metadata": {},
   "outputs": [],
   "source": []
  },
  {
   "cell_type": "code",
   "execution_count": null,
   "metadata": {},
   "outputs": [],
   "source": []
  }
 ],
 "metadata": {
  "kernelspec": {
   "display_name": "autoencoders",
   "language": "python",
   "name": "python3"
  },
  "language_info": {
   "codemirror_mode": {
    "name": "ipython",
    "version": 3
   },
   "file_extension": ".py",
   "mimetype": "text/x-python",
   "name": "python",
   "nbconvert_exporter": "python",
   "pygments_lexer": "ipython3",
   "version": "3.11.7"
  }
 },
 "nbformat": 4,
 "nbformat_minor": 2
}
