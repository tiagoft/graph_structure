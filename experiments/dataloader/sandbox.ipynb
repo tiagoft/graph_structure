{
 "cells": [
  {
   "cell_type": "code",
   "execution_count": 1,
   "metadata": {},
   "outputs": [],
   "source": [
    "from pathlib import Path"
   ]
  },
  {
   "cell_type": "code",
   "execution_count": 2,
   "metadata": {},
   "outputs": [],
   "source": [
    "DATA_DIR = Path('/mnt/data')\n",
    "IMAGENET_OOD_DIR = DATA_DIR / 'imagenet' / 'ood'"
   ]
  },
  {
   "cell_type": "code",
   "execution_count": 1,
   "metadata": {},
   "outputs": [
    {
     "name": "stdout",
     "output_type": "stream",
     "text": [
      "Synset name :   hello.n.01\n",
      "\n",
      "Synset meaning :  an expression of greeting\n",
      "\n",
      "Synset example :  ['every morning they exchanged polite hellos']\n"
     ]
    }
   ],
   "source": [
    "from nltk.corpus import wordnet\n",
    "syn = wordnet.synsets('hello')[0]\n",
    " \n",
    "print (\"Synset name :  \", syn.name())\n",
    " \n",
    "# Defining the word\n",
    "print (\"\\nSynset meaning : \", syn.definition())\n",
    " \n",
    "# list of phrases that use the word in context\n",
    "print (\"\\nSynset example : \", syn.examples())"
   ]
  },
  {
   "cell_type": "code",
   "execution_count": 17,
   "metadata": {},
   "outputs": [],
   "source": [
    "from pprint import pprint\n",
    "\n",
    "all_symsets = []\n",
    "for syn in wordnet.all_synsets():\n",
    "    if syn.pos() != 'n':\n",
    "        continue\n",
    "    all_symsets.append((str(syn.pos()) + str(syn.offset()).zfill(8), syn.name()))\n",
    "\n",
    "all_symsets = sorted(all_symsets)"
   ]
  },
  {
   "cell_type": "code",
   "execution_count": 19,
   "metadata": {},
   "outputs": [],
   "source": [
    "import pandas as pd\n",
    "\n",
    "df = pd.DataFrame(all_symsets, columns=['id', 'name'])"
   ]
  },
  {
   "cell_type": "code",
   "execution_count": 22,
   "metadata": {},
   "outputs": [],
   "source": [
    "df.set_index('id', inplace=True)"
   ]
  },
  {
   "cell_type": "code",
   "execution_count": 25,
   "metadata": {},
   "outputs": [],
   "source": [
    "ser = df.name"
   ]
  },
  {
   "cell_type": "code",
   "execution_count": 29,
   "metadata": {},
   "outputs": [],
   "source": [
    "df.to_csv('wordnet_synsets.csv', sep=';')"
   ]
  },
  {
   "cell_type": "code",
   "execution_count": null,
   "metadata": {},
   "outputs": [],
   "source": []
  }
 ],
 "metadata": {
  "kernelspec": {
   "display_name": "graph",
   "language": "python",
   "name": "python3"
  },
  "language_info": {
   "codemirror_mode": {
    "name": "ipython",
    "version": 3
   },
   "file_extension": ".py",
   "mimetype": "text/x-python",
   "name": "python",
   "nbconvert_exporter": "python",
   "pygments_lexer": "ipython3",
   "version": "3.11.10"
  }
 },
 "nbformat": 4,
 "nbformat_minor": 2
}
