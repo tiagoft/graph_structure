{
 "cells": [
  {
   "cell_type": "code",
   "execution_count": 1,
   "metadata": {},
   "outputs": [],
   "source": [
    "import matplotlib.pyplot as plt\n",
    "import numpy as np\n",
    "\n",
    "from sklearn.metrics import pairwise_distances\n",
    "\n",
    "np.seterr(all='raise')\n",
    "\n",
    "\n",
    "def affinity_from_distances(distances, scale=1.0):\n",
    "    return np.exp(-distances**2 / (2.0 * scale**2))\n",
    "\n",
    "\n",
    "def softmax(x):\n",
    "    try:\n",
    "        e_x = np.exp(x - np.max(x, axis=1, keepdims=True))\n",
    "        s = e_x / e_x.sum(axis=1, keepdims=True)\n",
    "    except FloatingPointError:\n",
    "        s = np.zeros_like(x)\n",
    "    return s\n",
    "\n",
    "\n",
    "def soft_jaccard_similarity(dx, dy, T=1.0, scale=1.0):\n",
    "\n",
    "    def compute_membership(d, T, scale):\n",
    "        a = affinity_from_distances(d, scale)\n",
    "        np.fill_diagonal(a, 0)\n",
    "        s = softmax(a / T)\n",
    "        return s\n",
    "\n",
    "    sx = compute_membership(dx, T, scale)\n",
    "    sy = compute_membership(dy, T, scale)\n",
    "\n",
    "    J = np.minimum(sx, sy).sum(axis=1) / np.maximum(sx, sy).sum(axis=1)\n",
    "    return J.mean()"
   ]
  },
  {
   "cell_type": "code",
   "execution_count": 5,
   "metadata": {},
   "outputs": [
    {
     "data": {
      "text/plain": [
       "0.8944753810755031"
      ]
     },
     "execution_count": 5,
     "metadata": {},
     "output_type": "execute_result"
    }
   ],
   "source": [
    "def plot_jaccard_curve_for_scale(X, Y, scales, Ts):\n",
    "    plt.figure()\n",
    "    for scale in scales:\n",
    "        Js = [soft_jaccard_similarity(X, Y, T=T, scale=scale) for T in Ts]\n",
    "        plt.plot(Ts, Js, label=f'scale={scale}')\n",
    "    plt.legend()\n",
    "    plt.xlabel('Temperature')\n",
    "    plt.ylabel('Soft Jaccard Similarity')\n",
    "    plt.ylim(0, 1)\n",
    "    plt.semilogx()\n",
    "    plt.show()\n",
    "\n",
    "num_samples = 1000\n",
    "num_features = 10\n",
    "\n",
    "X = np.random.normal(0, 1, (num_samples, num_features))\n",
    "Y = np.random.normal(0, 1, (num_samples, num_features))\n",
    "scales = [10.0**k for k in range(-1, 2)]\n",
    "Ts = 10.0**np.linspace(-3, 2, 100)\n",
    "\n",
    "plot_jaccard_curve_for_scale(X, Y, scales, Ts)\n"
   ]
  },
  {
   "cell_type": "code",
   "execution_count": null,
   "metadata": {},
   "outputs": [],
   "source": [
    "def foo(dx, scale):\n",
    "    affinity = affinity_from_distances(dx, scale=scale)\n",
    "    plt.figure(figsize=(10, 10))\n",
    "    for T in [10.0**i for i in np.linspace(-2, 2, 20)]:\n",
    "        aux = -np.sort(-softmax(-affinity / T), axis=1).mean(axis=0)\n",
    "        aux = aux / aux[0]\n",
    "        plt.plot(aux, label='T={}'.format(T))\n",
    "    plt.legend()\n",
    "    plt.xscale('log')\n",
    "    plt.xlabel('Rank')\n",
    "    plt.ylim(0, 1)\n",
    "    plt.ylabel('Average probability')\n",
    "    plt.title('Scale={}'.format(scale))\n",
    "    plt.show()\n",
    "\n",
    "\n",
    "dx = pairwise_distances(X, X, metric='euclidean')\n",
    "for scale in [0.1, 1.0, 5.0, 10.0, 100.0]:\n",
    "    foo(dx, scale)\n"
   ]
  },
  {
   "cell_type": "code",
   "execution_count": null,
   "metadata": {},
   "outputs": [],
   "source": []
  }
 ],
 "metadata": {
  "kernelspec": {
   "display_name": "graph",
   "language": "python",
   "name": "python3"
  },
  "language_info": {
   "codemirror_mode": {
    "name": "ipython",
    "version": 3
   },
   "file_extension": ".py",
   "mimetype": "text/x-python",
   "name": "python",
   "nbconvert_exporter": "python",
   "pygments_lexer": "ipython3",
   "version": "3.11.8"
  }
 },
 "nbformat": 4,
 "nbformat_minor": 2
}
